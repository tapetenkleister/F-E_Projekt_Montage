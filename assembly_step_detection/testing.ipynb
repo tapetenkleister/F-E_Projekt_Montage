{
 "cells": [
  {
   "cell_type": "code",
   "execution_count": 25,
   "metadata": {},
   "outputs": [],
   "source": [
    "from functions  import  *\n",
    "import matplotlib.pyplot as plt\n",
    "template_array=[\n",
    "            [\n",
    "                \"blue\",\n",
    "                \"blue\",\n",
    "                \"blue\",\n",
    "                \"blue\",\n",
    "                \"blue\",\n",
    "                \"blue\",\n",
    "                \"blue\",\n",
    "                \"blue\"\n",
    "            ],\n",
    "            [\n",
    "                \"blue\",\n",
    "                \"blue\",\n",
    "                \"blue\",\n",
    "                \"blue\",\n",
    "                \"blue\",\n",
    "                \"blue\",\n",
    "                \"blue\",\n",
    "                \"blue\"\n",
    "            ],\n",
    "            [\n",
    "                \"green\",\n",
    "                \"green\",\n",
    "                \"green\",\n",
    "                \"green\",\n",
    "                \"green\",\n",
    "                \"green\",\n",
    "                \"blue\",\n",
    "                \"blue\"\n",
    "            ],\n",
    "            [\n",
    "                \"green\",\n",
    "                \"green\",\n",
    "                \"green\",\n",
    "                \"green\",\n",
    "                \"green\",\n",
    "                \"green\",\n",
    "                \"blue\",\n",
    "                \"blue\"\n",
    "            ],\n",
    "            [\n",
    "                \"green\",\n",
    "                \"green\",\n",
    "                \"green\",\n",
    "                \"green\",\n",
    "                \"green\",\n",
    "                \"green\",\n",
    "                \"blue\",\n",
    "                \"blue\"\n",
    "            ],\n",
    "            [\n",
    "                \"green\",\n",
    "                \"green\",\n",
    "                \"green\",\n",
    "                \"green\",\n",
    "                \"green\",\n",
    "                \"green\",\n",
    "                \"blue\",\n",
    "                \"blue\"\n",
    "            ],\n",
    "            [\n",
    "                \"blue\",\n",
    "                \"blue\",\n",
    "                \"blue\",\n",
    "                \"blue\",\n",
    "                \"blue\",\n",
    "                \"blue\",\n",
    "                \"blue\",\n",
    "                \"blue\"\n",
    "            ],\n",
    "            [\n",
    "                \"blue\",\n",
    "                \"blue\",\n",
    "                \"blue\",\n",
    "                \"blue\",\n",
    "                \"blue\",\n",
    "                \"blue\",\n",
    "                \"blue\",\n",
    "                \"blue\"\n",
    "            ]\n",
    "        ]\n",
    "        \n"
   ]
  },
  {
   "cell_type": "code",
   "execution_count": 26,
   "metadata": {},
   "outputs": [
    {
     "data": {
      "text/plain": [
       "<matplotlib.image.AxesImage at 0x7fe231697b50>"
      ]
     },
     "execution_count": 26,
     "metadata": {},
     "output_type": "execute_result"
    },
    {
     "data": {
      "image/png": "[encoded data removed]",
      "text/plain": [
       "<Figure size 640x480 with 1 Axes>"
      ]
     },
     "metadata": {},
     "output_type": "display_data"
    }
   ],
   "source": [
    "plt.imshow(display_lego_pattern(template_array))"
   ]
  },
  {
   "cell_type": "code",
   "execution_count": 24,
   "metadata": {},
   "outputs": [
    {
     "data": {
      "text/plain": [
       "<matplotlib.image.AxesImage at 0x7fe231713d90>"
      ]
     },
     "execution_count": 24,
     "metadata": {},
     "output_type": "execute_result"
    },
    {
     "data": {
      "image/png": "[encoded data removed]",
      "text/plain": [
       "<Figure size 640x480 with 1 Axes>"
      ]
     },
     "metadata": {},
     "output_type": "display_data"
    }
   ],
   "source": [
    "rot = 90\n",
    "template_array = np.rot90(template_array,rot/90,axes=(1,0))\n",
    "plt.imshow(display_lego_pattern(template_array))"
   ]
  }
 ],
 "metadata": {
  "kernelspec": {
   "display_name": "Python 3",
   "language": "python",
   "name": "python3"
  },
  "language_info": {
   "codemirror_mode": {
    "name": "ipython",
    "version": 3
   },
   "file_extension": ".py",
   "mimetype": "text/x-python",
   "name": "python",
   "nbconvert_exporter": "python",
   "pygments_lexer": "ipython3",
   "version": "3.8.10"
  },
  "orig_nbformat": 4,
  "vscode": {
   "interpreter": {
    "hash": "767d51c1340bd893661ea55ea3124f6de3c7a262a8b4abca0554b478b1e2ff90"
   }
  }
 },
 "nbformat": 4,
 "nbformat_minor": 2
}
